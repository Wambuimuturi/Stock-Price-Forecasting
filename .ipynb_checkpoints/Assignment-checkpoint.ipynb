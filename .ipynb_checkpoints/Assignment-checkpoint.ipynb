{
 "cells": [
  {
   "cell_type": "markdown",
   "metadata": {},
   "source": [
    "Stock Price Forecasting mini project1\n",
    "\n",
    "\n",
    "Stocks are traded, as you may be aware, on a daily basis and the daily information regarding the trades\n",
    "are captured and made available as historical data. \n",
    "Their value, the fluctuations in their value based on events & sentiments are all baked into their price \n",
    "and this an ongoing phenomenon with respect to time. This therefore means that stock prices per definition\n",
    "are time series data and have to be analyzed and forecasted in that context.\n"
   ]
  }
 ],
 "metadata": {
  "kernelspec": {
   "display_name": "Python 3",
   "language": "python",
   "name": "python3"
  },
  "language_info": {
   "codemirror_mode": {
    "name": "ipython",
    "version": 3
   },
   "file_extension": ".py",
   "mimetype": "text/x-python",
   "name": "python",
   "nbconvert_exporter": "python",
   "pygments_lexer": "ipython3",
   "version": "3.8.3"
  }
 },
 "nbformat": 4,
 "nbformat_minor": 4
}
